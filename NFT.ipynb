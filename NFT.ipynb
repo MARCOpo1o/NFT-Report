{
 "cells": [
  {
   "cell_type": "markdown",
   "id": "divided-manitoba",
   "metadata": {},
   "source": [
    "# Data about NFT"
   ]
  },
  {
   "cell_type": "markdown",
   "id": "cooked-monitoring",
   "metadata": {},
   "source": [
    "The dataset comes from [Kaggle](https://www.kaggle.com/)\n",
    "* [nft_sales-v503](https://www.kaggle.com/hemil26/nft-collections-dataset)contains the lastest info about the NFTs in the market\n",
    "* [coins_Ethereum](https://www.kaggle.com/sudalairajkumar/cryptocurrencypricehistory) contains the info about history of Ether price\n",
    "* [NFT_Sales 2](https://www.kaggle.com/mathurinache/nft-history-sales) contains the total NFT sales in history"
   ]
  },
  {
   "cell_type": "markdown",
   "id": "5173cd42-9e4a-4637-b7ac-735ae4a33f99",
   "metadata": {},
   "source": [
    "To download the data set, simply click \"download\" in the website"
   ]
  },
  {
   "cell_type": "markdown",
   "id": "ca0c67a1-d00d-4abf-844e-a8c5b37352f1",
   "metadata": {
    "tags": []
   },
   "source": [
    "***\n"
   ]
  },
  {
   "cell_type": "markdown",
   "id": "4087d3eb-4b34-4ace-b0a5-955e0b51cbee",
   "metadata": {},
   "source": [
    "#### Questions:\n",
    "1. Compare price/volume of Eth to NFT sales\n",
    "2. What is the average Eth price?"
   ]
  },
  {
   "cell_type": "code",
   "execution_count": 56,
   "id": "suffering-barbados",
   "metadata": {},
   "outputs": [],
   "source": [
    "import numpy as np\n",
    "import pandas as pd\n",
    "import matplotlib.pyplot as plt"
   ]
  },
  {
   "cell_type": "markdown",
   "id": "12e82c2c-d871-42ef-8ddd-1c9bfaf478b2",
   "metadata": {},
   "source": [
    "## Reading in the dataset"
   ]
  },
  {
   "cell_type": "code",
   "execution_count": 57,
   "id": "65f4f092-91f4-41fb-8dbb-4ffb9ddc9d20",
   "metadata": {},
   "outputs": [],
   "source": [
    "nft_df = pd.read_csv('nft_sales_v0503.csv')\n",
    "eth_df = pd.read_csv('coins/coin_Ethereum.csv')\n",
    "nfthis_df = pd.read_csv('NFT_Sales 2.csv')"
   ]
  },
  {
   "cell_type": "code",
   "execution_count": 58,
   "id": "representative-swedish",
   "metadata": {},
   "outputs": [
    {
     "data": {
      "text/html": [
       "<div>\n",
       "<style scoped>\n",
       "    .dataframe tbody tr th:only-of-type {\n",
       "        vertical-align: middle;\n",
       "    }\n",
       "\n",
       "    .dataframe tbody tr th {\n",
       "        vertical-align: top;\n",
       "    }\n",
       "\n",
       "    .dataframe thead th {\n",
       "        text-align: right;\n",
       "    }\n",
       "</style>\n",
       "<table border=\"1\" class=\"dataframe\">\n",
       "  <thead>\n",
       "    <tr style=\"text-align: right;\">\n",
       "      <th></th>\n",
       "      <th>SNo</th>\n",
       "      <th>High</th>\n",
       "      <th>Low</th>\n",
       "      <th>Open</th>\n",
       "      <th>Close</th>\n",
       "      <th>Volume</th>\n",
       "      <th>Marketcap</th>\n",
       "    </tr>\n",
       "  </thead>\n",
       "  <tbody>\n",
       "    <tr>\n",
       "      <th>count</th>\n",
       "      <td>2160.000000</td>\n",
       "      <td>2160.000000</td>\n",
       "      <td>2160.000000</td>\n",
       "      <td>2160.000000</td>\n",
       "      <td>2160.000000</td>\n",
       "      <td>2.160000e+03</td>\n",
       "      <td>2.160000e+03</td>\n",
       "    </tr>\n",
       "    <tr>\n",
       "      <th>mean</th>\n",
       "      <td>1080.500000</td>\n",
       "      <td>398.258568</td>\n",
       "      <td>365.592589</td>\n",
       "      <td>382.879899</td>\n",
       "      <td>383.910691</td>\n",
       "      <td>7.057058e+09</td>\n",
       "      <td>4.172084e+10</td>\n",
       "    </tr>\n",
       "    <tr>\n",
       "      <th>std</th>\n",
       "      <td>623.682612</td>\n",
       "      <td>628.082281</td>\n",
       "      <td>566.611523</td>\n",
       "      <td>599.719862</td>\n",
       "      <td>601.078766</td>\n",
       "      <td>1.064526e+10</td>\n",
       "      <td>6.909184e+10</td>\n",
       "    </tr>\n",
       "    <tr>\n",
       "      <th>min</th>\n",
       "      <td>1.000000</td>\n",
       "      <td>0.482988</td>\n",
       "      <td>0.420897</td>\n",
       "      <td>0.431589</td>\n",
       "      <td>0.434829</td>\n",
       "      <td>1.021280e+05</td>\n",
       "      <td>3.221363e+07</td>\n",
       "    </tr>\n",
       "    <tr>\n",
       "      <th>25%</th>\n",
       "      <td>540.750000</td>\n",
       "      <td>14.265225</td>\n",
       "      <td>13.190950</td>\n",
       "      <td>13.757600</td>\n",
       "      <td>13.819200</td>\n",
       "      <td>3.825102e+07</td>\n",
       "      <td>1.135576e+09</td>\n",
       "    </tr>\n",
       "    <tr>\n",
       "      <th>50%</th>\n",
       "      <td>1080.500000</td>\n",
       "      <td>205.124631</td>\n",
       "      <td>193.302715</td>\n",
       "      <td>198.425096</td>\n",
       "      <td>198.643691</td>\n",
       "      <td>2.148880e+09</td>\n",
       "      <td>2.070063e+10</td>\n",
       "    </tr>\n",
       "    <tr>\n",
       "      <th>75%</th>\n",
       "      <td>1620.250000</td>\n",
       "      <td>396.494561</td>\n",
       "      <td>375.146804</td>\n",
       "      <td>386.264935</td>\n",
       "      <td>386.435272</td>\n",
       "      <td>9.629136e+09</td>\n",
       "      <td>4.231010e+10</td>\n",
       "    </tr>\n",
       "    <tr>\n",
       "      <th>max</th>\n",
       "      <td>2160.000000</td>\n",
       "      <td>4362.350542</td>\n",
       "      <td>3785.848603</td>\n",
       "      <td>4174.635873</td>\n",
       "      <td>4168.701049</td>\n",
       "      <td>8.448291e+10</td>\n",
       "      <td>4.828819e+11</td>\n",
       "    </tr>\n",
       "  </tbody>\n",
       "</table>\n",
       "</div>"
      ],
      "text/plain": [
       "               SNo         High          Low         Open        Close  \\\n",
       "count  2160.000000  2160.000000  2160.000000  2160.000000  2160.000000   \n",
       "mean   1080.500000   398.258568   365.592589   382.879899   383.910691   \n",
       "std     623.682612   628.082281   566.611523   599.719862   601.078766   \n",
       "min       1.000000     0.482988     0.420897     0.431589     0.434829   \n",
       "25%     540.750000    14.265225    13.190950    13.757600    13.819200   \n",
       "50%    1080.500000   205.124631   193.302715   198.425096   198.643691   \n",
       "75%    1620.250000   396.494561   375.146804   386.264935   386.435272   \n",
       "max    2160.000000  4362.350542  3785.848603  4174.635873  4168.701049   \n",
       "\n",
       "             Volume     Marketcap  \n",
       "count  2.160000e+03  2.160000e+03  \n",
       "mean   7.057058e+09  4.172084e+10  \n",
       "std    1.064526e+10  6.909184e+10  \n",
       "min    1.021280e+05  3.221363e+07  \n",
       "25%    3.825102e+07  1.135576e+09  \n",
       "50%    2.148880e+09  2.070063e+10  \n",
       "75%    9.629136e+09  4.231010e+10  \n",
       "max    8.448291e+10  4.828819e+11  "
      ]
     },
     "execution_count": 58,
     "metadata": {},
     "output_type": "execute_result"
    }
   ],
   "source": [
    "eth_df.describe()"
   ]
  },
  {
   "cell_type": "code",
   "execution_count": 59,
   "id": "40ed3e7f-e64f-45a4-9264-6b51f80e9d83",
   "metadata": {},
   "outputs": [
    {
     "data": {
      "text/html": [
       "<div>\n",
       "<style scoped>\n",
       "    .dataframe tbody tr th:only-of-type {\n",
       "        vertical-align: middle;\n",
       "    }\n",
       "\n",
       "    .dataframe tbody tr th {\n",
       "        vertical-align: top;\n",
       "    }\n",
       "\n",
       "    .dataframe thead th {\n",
       "        text-align: right;\n",
       "    }\n",
       "</style>\n",
       "<table border=\"1\" class=\"dataframe\">\n",
       "  <thead>\n",
       "    <tr style=\"text-align: right;\">\n",
       "      <th></th>\n",
       "      <th>Sales_USD_cumsum</th>\n",
       "      <th>Number_of_Sales_cumsum</th>\n",
       "      <th>Active_Market_Wallets_cumsum</th>\n",
       "      <th>Primary_Sales_cumsum</th>\n",
       "      <th>Secondary_Sales_cumsum</th>\n",
       "      <th>AverageUSD_cum</th>\n",
       "      <th>Sales_USD</th>\n",
       "      <th>Number_of_Sales</th>\n",
       "      <th>Active_Market_Wallets</th>\n",
       "      <th>Primary_Sales</th>\n",
       "    </tr>\n",
       "  </thead>\n",
       "  <tbody>\n",
       "    <tr>\n",
       "      <th>count</th>\n",
       "      <td>1.606000e+03</td>\n",
       "      <td>1.606000e+03</td>\n",
       "      <td>1598.000000</td>\n",
       "      <td>1.606000e+03</td>\n",
       "      <td>1605.000000</td>\n",
       "      <td>1605.000000</td>\n",
       "      <td>1.605000e+03</td>\n",
       "      <td>1605.000000</td>\n",
       "      <td>1597.000000</td>\n",
       "      <td>1605.000000</td>\n",
       "    </tr>\n",
       "    <tr>\n",
       "      <th>mean</th>\n",
       "      <td>5.914905e+08</td>\n",
       "      <td>3.397818e+06</td>\n",
       "      <td>155847.829161</td>\n",
       "      <td>2.218615e+06</td>\n",
       "      <td>2749.373832</td>\n",
       "      <td>98.241209</td>\n",
       "      <td>6.372813e+06</td>\n",
       "      <td>6866.409346</td>\n",
       "      <td>502.875391</td>\n",
       "      <td>4117.035514</td>\n",
       "    </tr>\n",
       "    <tr>\n",
       "      <th>std</th>\n",
       "      <td>1.720005e+09</td>\n",
       "      <td>2.329504e+06</td>\n",
       "      <td>136083.110285</td>\n",
       "      <td>1.432603e+06</td>\n",
       "      <td>5597.500898</td>\n",
       "      <td>179.880778</td>\n",
       "      <td>2.486102e+07</td>\n",
       "      <td>12610.348160</td>\n",
       "      <td>1363.808979</td>\n",
       "      <td>7578.887189</td>\n",
       "    </tr>\n",
       "    <tr>\n",
       "      <th>min</th>\n",
       "      <td>0.000000e+00</td>\n",
       "      <td>0.000000e+00</td>\n",
       "      <td>0.000000</td>\n",
       "      <td>0.000000e+00</td>\n",
       "      <td>-1024.000000</td>\n",
       "      <td>7.140000</td>\n",
       "      <td>-6.196720e+06</td>\n",
       "      <td>-2195.000000</td>\n",
       "      <td>-573.000000</td>\n",
       "      <td>-1171.000000</td>\n",
       "    </tr>\n",
       "    <tr>\n",
       "      <th>25%</th>\n",
       "      <td>5.129669e+07</td>\n",
       "      <td>1.451181e+06</td>\n",
       "      <td>81998.250000</td>\n",
       "      <td>9.735630e+05</td>\n",
       "      <td>662.000000</td>\n",
       "      <td>27.110000</td>\n",
       "      <td>4.605234e+04</td>\n",
       "      <td>2274.000000</td>\n",
       "      <td>69.000000</td>\n",
       "      <td>1462.000000</td>\n",
       "    </tr>\n",
       "    <tr>\n",
       "      <th>50%</th>\n",
       "      <td>8.691480e+07</td>\n",
       "      <td>3.203392e+06</td>\n",
       "      <td>121914.000000</td>\n",
       "      <td>2.296888e+06</td>\n",
       "      <td>1025.000000</td>\n",
       "      <td>32.050000</td>\n",
       "      <td>8.218757e+04</td>\n",
       "      <td>3681.000000</td>\n",
       "      <td>126.000000</td>\n",
       "      <td>2358.000000</td>\n",
       "    </tr>\n",
       "    <tr>\n",
       "      <th>75%</th>\n",
       "      <td>1.328586e+08</td>\n",
       "      <td>4.938128e+06</td>\n",
       "      <td>180948.250000</td>\n",
       "      <td>3.150981e+06</td>\n",
       "      <td>1846.000000</td>\n",
       "      <td>71.360000</td>\n",
       "      <td>3.528744e+05</td>\n",
       "      <td>5844.000000</td>\n",
       "      <td>267.000000</td>\n",
       "      <td>3695.000000</td>\n",
       "    </tr>\n",
       "    <tr>\n",
       "      <th>max</th>\n",
       "      <td>1.023456e+10</td>\n",
       "      <td>1.102278e+07</td>\n",
       "      <td>803665.000000</td>\n",
       "      <td>6.609013e+06</td>\n",
       "      <td>69685.000000</td>\n",
       "      <td>928.490000</td>\n",
       "      <td>3.886364e+08</td>\n",
       "      <td>161732.000000</td>\n",
       "      <td>30129.000000</td>\n",
       "      <td>93609.000000</td>\n",
       "    </tr>\n",
       "  </tbody>\n",
       "</table>\n",
       "</div>"
      ],
      "text/plain": [
       "       Sales_USD_cumsum  Number_of_Sales_cumsum  Active_Market_Wallets_cumsum  \\\n",
       "count      1.606000e+03            1.606000e+03                   1598.000000   \n",
       "mean       5.914905e+08            3.397818e+06                 155847.829161   \n",
       "std        1.720005e+09            2.329504e+06                 136083.110285   \n",
       "min        0.000000e+00            0.000000e+00                      0.000000   \n",
       "25%        5.129669e+07            1.451181e+06                  81998.250000   \n",
       "50%        8.691480e+07            3.203392e+06                 121914.000000   \n",
       "75%        1.328586e+08            4.938128e+06                 180948.250000   \n",
       "max        1.023456e+10            1.102278e+07                 803665.000000   \n",
       "\n",
       "       Primary_Sales_cumsum  Secondary_Sales_cumsum  AverageUSD_cum  \\\n",
       "count          1.606000e+03             1605.000000     1605.000000   \n",
       "mean           2.218615e+06             2749.373832       98.241209   \n",
       "std            1.432603e+06             5597.500898      179.880778   \n",
       "min            0.000000e+00            -1024.000000        7.140000   \n",
       "25%            9.735630e+05              662.000000       27.110000   \n",
       "50%            2.296888e+06             1025.000000       32.050000   \n",
       "75%            3.150981e+06             1846.000000       71.360000   \n",
       "max            6.609013e+06            69685.000000      928.490000   \n",
       "\n",
       "          Sales_USD  Number_of_Sales  Active_Market_Wallets  Primary_Sales  \n",
       "count  1.605000e+03      1605.000000            1597.000000    1605.000000  \n",
       "mean   6.372813e+06      6866.409346             502.875391    4117.035514  \n",
       "std    2.486102e+07     12610.348160            1363.808979    7578.887189  \n",
       "min   -6.196720e+06     -2195.000000            -573.000000   -1171.000000  \n",
       "25%    4.605234e+04      2274.000000              69.000000    1462.000000  \n",
       "50%    8.218757e+04      3681.000000             126.000000    2358.000000  \n",
       "75%    3.528744e+05      5844.000000             267.000000    3695.000000  \n",
       "max    3.886364e+08    161732.000000           30129.000000   93609.000000  "
      ]
     },
     "execution_count": 59,
     "metadata": {},
     "output_type": "execute_result"
    }
   ],
   "source": [
    "nfthis_df.describe()"
   ]
  },
  {
   "cell_type": "code",
   "execution_count": 60,
   "id": "dde5b1cc-af52-4a72-9d72-f7c15472ce61",
   "metadata": {},
   "outputs": [
    {
     "data": {
      "text/html": [
       "<div>\n",
       "<style scoped>\n",
       "    .dataframe tbody tr th:only-of-type {\n",
       "        vertical-align: middle;\n",
       "    }\n",
       "\n",
       "    .dataframe tbody tr th {\n",
       "        vertical-align: top;\n",
       "    }\n",
       "\n",
       "    .dataframe thead th {\n",
       "        text-align: right;\n",
       "    }\n",
       "</style>\n",
       "<table border=\"1\" class=\"dataframe\">\n",
       "  <thead>\n",
       "    <tr style=\"text-align: right;\">\n",
       "      <th></th>\n",
       "      <th>Collections</th>\n",
       "      <th>Sales</th>\n",
       "      <th>Buyers</th>\n",
       "      <th>Txns</th>\n",
       "      <th>Owners</th>\n",
       "    </tr>\n",
       "  </thead>\n",
       "  <tbody>\n",
       "    <tr>\n",
       "      <th>count</th>\n",
       "      <td>250</td>\n",
       "      <td>250</td>\n",
       "      <td>250</td>\n",
       "      <td>250</td>\n",
       "      <td>157</td>\n",
       "    </tr>\n",
       "    <tr>\n",
       "      <th>unique</th>\n",
       "      <td>250</td>\n",
       "      <td>250</td>\n",
       "      <td>244</td>\n",
       "      <td>249</td>\n",
       "      <td>151</td>\n",
       "    </tr>\n",
       "    <tr>\n",
       "      <th>top</th>\n",
       "      <td>BugBears</td>\n",
       "      <td>$12,392,176</td>\n",
       "      <td>6,960</td>\n",
       "      <td>12,174</td>\n",
       "      <td>1</td>\n",
       "    </tr>\n",
       "    <tr>\n",
       "      <th>freq</th>\n",
       "      <td>1</td>\n",
       "      <td>1</td>\n",
       "      <td>2</td>\n",
       "      <td>2</td>\n",
       "      <td>6</td>\n",
       "    </tr>\n",
       "  </tbody>\n",
       "</table>\n",
       "</div>"
      ],
      "text/plain": [
       "       Collections        Sales Buyers    Txns Owners\n",
       "count          250          250    250     250    157\n",
       "unique         250          250    244     249    151\n",
       "top       BugBears  $12,392,176  6,960  12,174      1\n",
       "freq             1            1      2       2      6"
      ]
     },
     "execution_count": 60,
     "metadata": {},
     "output_type": "execute_result"
    }
   ],
   "source": [
    "nft_df.describe()"
   ]
  },
  {
   "cell_type": "markdown",
   "id": "3d91e315-983f-4a7a-b895-04508affa400",
   "metadata": {},
   "source": [
    "- print the array of columns and the index array\n",
    "- create some simple plot of part of the data\n",
    "- create a pivot table and plot some data from that pivot table\n",
    "- use the groupby feature\n"
   ]
  },
  {
   "cell_type": "code",
   "execution_count": 61,
   "id": "c94a4059-2b7d-4a02-a017-ccc56995dae9",
   "metadata": {},
   "outputs": [
    {
     "data": {
      "text/plain": [
       "Index(['Date', 'Sales_USD_cumsum', 'Number_of_Sales_cumsum',\n",
       "       'Active_Market_Wallets_cumsum', 'Primary_Sales_cumsum',\n",
       "       'Secondary_Sales_cumsum', 'AverageUSD_cum', 'Sales_USD',\n",
       "       'Number_of_Sales', 'Active_Market_Wallets', 'Primary_Sales'],\n",
       "      dtype='object')"
      ]
     },
     "execution_count": 61,
     "metadata": {},
     "output_type": "execute_result"
    }
   ],
   "source": [
    "nft_df.columns\n",
    "eth_df.columns\n",
    "nfthis_df.columns"
   ]
  },
  {
   "cell_type": "markdown",
   "id": "508aeef8-92bd-47bf-8204-ec5fe32c573a",
   "metadata": {},
   "source": [
    "### draw NFT history price"
   ]
  },
  {
   "cell_type": "code",
   "execution_count": 71,
   "id": "6c4a091b-9aa1-4a6a-a169-4c538ac7e03c",
   "metadata": {},
   "outputs": [
    {
     "data": {
      "image/png": "[encoded data removed]",
      "text/plain": [
       "<Figure size 432x288 with 1 Axes>"
      ]
     },
     "metadata": {
      "needs_background": "light"
     },
     "output_type": "display_data"
    }
   ],
   "source": [
    "def plot_df(eth_df, x, y, title=\"\", xlabel='Date', ylabel='NFT', dpi=100):\n",
    "    #plt.figure(figsize=(16,5), dpi=dpi)\n",
    "    plt.plot(x, y, color='tab:red')\n",
    "    plt.gca().set(title=title, xlabel=xlabel, ylabel=ylabel)\n",
    "\n",
    "plot_df(nfthis_df, x=nfthis_df.index, y=nfthis_df.Number_of_Sales, title='NFT Sales.') \n",
    "plt.grid()"
   ]
  },
  {
   "cell_type": "markdown",
   "id": "e51ef636-3de9-4136-8a5e-6148445eaa27",
   "metadata": {},
   "source": [
    "### Draw Eth history price"
   ]
  },
  {
   "cell_type": "code",
   "execution_count": 70,
   "id": "5bd456e0-ad3d-41c7-ac34-7fc4b806ea83",
   "metadata": {},
   "outputs": [
    {
     "data": {
      "image/png": "[encoded data removed]",
      "text/plain": [
       "<Figure size 1440x720 with 1 Axes>"
      ]
     },
     "metadata": {
      "needs_background": "light"
     },
     "output_type": "display_data"
    }
   ],
   "source": [
    "def plot_eth_df(eth_df, x, y, title=\"\", xlabel='Date', ylabel='NFT', dpi=100):\n",
    " #   plt.figure(figsize=(16,5), dpi=dpi)\n",
    "    plt.plot(x, y, color='tab:blue')\n",
    "    plt.gca().set(title=title, xlabel=xlabel, ylabel=ylabel)\n",
    "plt.figure(figsize=(20,10))\n",
    "nfthis_df.index = nfthis_df['Date']\n",
    "Price = (eth_df.High + eth_df.Low)/2*50\n",
    "plot_df(nfthis_df, x=nfthis_df.index, y=nfthis_df.Number_of_Sales, title='NFT Sales.') \n",
    "plot_eth_df(eth_df, x=eth_df.index, y=Price, title='Ether Price') \n",
    "#plt.grid()"
   ]
  },
  {
   "cell_type": "markdown",
   "id": "6a5366c0-a5ab-4ed9-9c62-c828ddfdc3a8",
   "metadata": {},
   "source": [
    "***"
   ]
  },
  {
   "cell_type": "markdown",
   "id": "c493a43d-2f39-4336-a4a9-8dc191d45d9c",
   "metadata": {},
   "source": [
    "## The Most trending NFTs"
   ]
  },
  {
   "cell_type": "markdown",
   "id": "38b40a8f-a2ad-4a86-9935-1d9b0b5e6bcd",
   "metadata": {},
   "source": [
    "### Bored Ape Yacht Club"
   ]
  },
  {
   "cell_type": "markdown",
   "id": "1751758a-375a-46f1-a408-1b8879ebde07",
   "metadata": {},
   "source": [
    "<img src =\"https://www.rollingstone.com/wp-content/uploads/2021/10/RS-BoardApe_Lead_5.jpg\" alt = \"Collections of Bored Ape Yacht Club\" title = \"Bored Ape Yacht Club\" />"
   ]
  },
  {
   "cell_type": "code",
   "execution_count": 64,
   "id": "5f794d57-e5cd-4fe2-9b6e-99de8e0e82e1",
   "metadata": {},
   "outputs": [
    {
     "data": {
      "text/html": [
       "<div>\n",
       "<style scoped>\n",
       "    .dataframe tbody tr th:only-of-type {\n",
       "        vertical-align: middle;\n",
       "    }\n",
       "\n",
       "    .dataframe tbody tr th {\n",
       "        vertical-align: top;\n",
       "    }\n",
       "\n",
       "    .dataframe thead th {\n",
       "        text-align: right;\n",
       "    }\n",
       "</style>\n",
       "<table border=\"1\" class=\"dataframe\">\n",
       "  <thead>\n",
       "    <tr style=\"text-align: right;\">\n",
       "      <th></th>\n",
       "      <th>Collections</th>\n",
       "      <th>Sales</th>\n",
       "      <th>Buyers</th>\n",
       "      <th>Txns</th>\n",
       "      <th>Owners</th>\n",
       "    </tr>\n",
       "  </thead>\n",
       "  <tbody>\n",
       "    <tr>\n",
       "      <th>2</th>\n",
       "      <td>Bored Ape Yacht Club</td>\n",
       "      <td>$1,387,210,003</td>\n",
       "      <td>9,579</td>\n",
       "      <td>24,737</td>\n",
       "      <td>6,360</td>\n",
       "    </tr>\n",
       "  </tbody>\n",
       "</table>\n",
       "</div>"
      ],
      "text/plain": [
       "            Collections           Sales Buyers    Txns Owners\n",
       "2  Bored Ape Yacht Club  $1,387,210,003  9,579  24,737  6,360"
      ]
     },
     "execution_count": 64,
     "metadata": {},
     "output_type": "execute_result"
    }
   ],
   "source": [
    "df2 = nft_df[nft_df[\"Collections\"]==\"Bored Ape Yacht Club\"]\n",
    "df2"
   ]
  },
  {
   "cell_type": "code",
   "execution_count": 80,
   "id": "ca78f02c-e3ae-4594-8195-b037065b6573",
   "metadata": {},
   "outputs": [
    {
     "data": {
      "text/html": [
       "<div>\n",
       "<style scoped>\n",
       "    .dataframe tbody tr th:only-of-type {\n",
       "        vertical-align: middle;\n",
       "    }\n",
       "\n",
       "    .dataframe tbody tr th {\n",
       "        vertical-align: top;\n",
       "    }\n",
       "\n",
       "    .dataframe thead tr th {\n",
       "        text-align: left;\n",
       "    }\n",
       "\n",
       "    .dataframe thead tr:last-of-type th {\n",
       "        text-align: right;\n",
       "    }\n",
       "</style>\n",
       "<table border=\"1\" class=\"dataframe\">\n",
       "  <thead>\n",
       "    <tr>\n",
       "      <th></th>\n",
       "      <th></th>\n",
       "      <th colspan=\"3\" halign=\"left\">Close</th>\n",
       "      <th colspan=\"3\" halign=\"left\">Open</th>\n",
       "    </tr>\n",
       "    <tr>\n",
       "      <th></th>\n",
       "      <th></th>\n",
       "      <th>mean</th>\n",
       "      <th>median</th>\n",
       "      <th>min</th>\n",
       "      <th>mean</th>\n",
       "      <th>median</th>\n",
       "      <th>min</th>\n",
       "    </tr>\n",
       "    <tr>\n",
       "      <th>Name</th>\n",
       "      <th>Symbol</th>\n",
       "      <th></th>\n",
       "      <th></th>\n",
       "      <th></th>\n",
       "      <th></th>\n",
       "      <th></th>\n",
       "      <th></th>\n",
       "    </tr>\n",
       "  </thead>\n",
       "  <tbody>\n",
       "    <tr>\n",
       "      <th>Ethereum</th>\n",
       "      <th>ETH</th>\n",
       "      <td>383.910691</td>\n",
       "      <td>198.643691</td>\n",
       "      <td>0.434829</td>\n",
       "      <td>382.879899</td>\n",
       "      <td>198.425096</td>\n",
       "      <td>0.431589</td>\n",
       "    </tr>\n",
       "  </tbody>\n",
       "</table>\n",
       "</div>"
      ],
      "text/plain": [
       "                      Close                              Open              \\\n",
       "                       mean      median       min        mean      median   \n",
       "Name     Symbol                                                             \n",
       "Ethereum ETH     383.910691  198.643691  0.434829  382.879899  198.425096   \n",
       "\n",
       "                           \n",
       "                      min  \n",
       "Name     Symbol            \n",
       "Ethereum ETH     0.431589  "
      ]
     },
     "execution_count": 80,
     "metadata": {},
     "output_type": "execute_result"
    }
   ],
   "source": [
    "pivot = eth_df.pivot_table(index =['Name', 'Symbol'], values =['Close', 'Open'], aggfunc ={'median', 'mean', 'min'})\n",
    "pivot"
   ]
  },
  {
   "cell_type": "markdown",
   "id": "a77ae78e-92c2-4ad3-8f37-1eb045f02815",
   "metadata": {},
   "source": [
    "This pivot table shows the medium, mean, and min of Ether closing and opening price "
   ]
  },
  {
   "cell_type": "code",
   "execution_count": 83,
   "id": "b9c53c41-40b9-46a8-8337-eff50f300134",
   "metadata": {},
   "outputs": [
    {
     "data": {
      "text/plain": [
       "Int64Index([2], dtype='int64')"
      ]
     },
     "execution_count": 83,
     "metadata": {},
     "output_type": "execute_result"
    }
   ],
   "source": [
    "z = nft_df.groupby(\"Collections\")\n",
    "z.groups[\"Bored Ape Yacht Club\"]"
   ]
  },
  {
   "cell_type": "markdown",
   "id": "d6cee429-2b61-4108-bc4f-c23e5304308f",
   "metadata": {},
   "source": [
    "## Analysis"
   ]
  },
  {
   "cell_type": "markdown",
   "id": "d3ae57dc-fcc0-42a6-90c0-5c11048a95d8",
   "metadata": {},
   "source": [
    "The Ether price seems to have a moderate corelation with the total sales of NFT. The average Ether price is 382.879899 USD"
   ]
  },
  {
   "cell_type": "code",
   "execution_count": null,
   "id": "621c38c6-a3fc-47d1-8f9c-102a55c102d4",
   "metadata": {},
   "outputs": [],
   "source": []
  }
 ],
 "metadata": {
  "kernelspec": {
   "display_name": "Python 3",
   "language": "python",
   "name": "python3"
  },
  "language_info": {
   "codemirror_mode": {
    "name": "ipython",
    "version": 3
   },
   "file_extension": ".py",
   "mimetype": "text/x-python",
   "name": "python",
   "nbconvert_exporter": "python",
   "pygments_lexer": "ipython3",
   "version": "3.8.8"
  }
 },
 "nbformat": 4,
 "nbformat_minor": 5
}
